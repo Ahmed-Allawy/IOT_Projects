{
  "cells": [
    {
      "cell_type": "markdown",
      "metadata": {
        "id": "view-in-github",
        "colab_type": "text"
      },
      "source": [
        "<a href=\"https://colab.research.google.com/github/Ahmed-Allawy/IOT_Projects/blob/main/Intro_to_IoT.ipynb\" target=\"_parent\"><img src=\"https://colab.research.google.com/assets/colab-badge.svg\" alt=\"Open In Colab\"/></a>"
      ]
    },
    {
      "cell_type": "markdown",
      "metadata": {
        "id": "Nma_JWh-W-IF"
      },
      "source": [
        "<div class=\"markdown-google-sans\">\n",
        "<center>\n",
        "  <h1>Welcome to IoT!</h1>\n",
        "  <h3>IoT, or \"Internet of Things\", allows you to monitor and control things locally or remotely and manually or automatically.</h3>\n",
        "  </center>\n",
        "</div>\n"
      ]
    },
    {
      "cell_type": "markdown",
      "metadata": {
        "id": "5fCEDCU_qrC0"
      },
      "source": [
        "<div class=\"markdown-google-sans\">\n",
        "  <h2>content</h2>\n",
        "</div>\n",
        "\n",
        "- What is IoT\n",
        "- Benefits of IoT\n",
        "- IoT Architecture\n",
        "- IoT with flutter\n",
        "<!-- Whether you're a **student**, a **data scientist** or an **AI researcher**, Colab can make your work easier. Watch [Introduction to Colab](https://www.youtube.com/watch?v=inN8seMm7UI) to learn more, or just get started below! -->"
      ]
    },
    {
      "cell_type": "markdown",
      "metadata": {
        "id": "GJBs_flRovLc"
      },
      "source": [
        "<div class=\"markdown-google-sans\">\n",
        "\n",
        "## **What is IoT**\n",
        "</div>\n"
      ]
    },
    {
      "cell_type": "markdown",
      "source": [
        "<div class=\"markdown-google-sans\">\n",
        "<center>\n",
        "<h1>Befor IoT\n",
        "<center>\n",
        "<img src=\"https://mayasblog309.files.wordpress.com/2017/08/modern-day-computers-14-638.jpg\" alt=\"img\" width=\"500\" height=\"400\">\n",
        "</center>\n",
        "<h1>After IoT\n",
        "<center>\n",
        "<img src=\"https://th.bing.com/th/id/R.a6c4090bd57bc00bb8566554a9edd74a?rik=GEK%2fOGmM%2fw6X5A&pid=ImgRaw&r=0\" alt=\"img\" width=\"500\" height=\"400\">\n",
        "</center>\n",
        "IoT not a technology.\n",
        "<center><h2><b>IoT = smart solution to a problem.</center>\n",
        "\n",
        "\n",
        "\n",
        "<center><h2>History.</center>\n",
        "\n",
        "**Kevin Ashton**, coined the phrase “Internet of Things” in 1999. He was the first to describe the IoT, while making a presentation for Procter & Gamble, but the definition of the IoT has evolved over time. Mr. Ashton stated:\n",
        "\n",
        "“Today computers, and, therefore, the Internet, are almost wholly **dependent on human** beings for information. Nearly all of the roughly 50 petabytes of data available on the Internet were first captured and created by human beings by typing, pressing a record button, taking a digital picture or scanning a barcode. The problem is, people have limited time, attention, and accuracy. All of which means they are not very good at capturing data about things in the real world. If we had computers that knew everything there was to know about things, **using data they gathered without any help from us**, we would be able to **track** and count everything and greatly **reduce waste, loss, and cost**. We would know when things needed **replacing, repairing, or recalling and whether they were fresh, or past their best**.”\n",
        "</div>"
      ],
      "metadata": {
        "id": "wv0nyPIhtmqW"
      }
    },
    {
      "cell_type": "markdown",
      "metadata": {
        "id": "2eBlGwhpvkpH"
      },
      "source": [
        "<div class=\"markdown-google-sans\">\n",
        "\n",
        "## **Benefits of IoT**\n",
        "</div>\n"
      ]
    },
    {
      "cell_type": "markdown",
      "source": [
        "<div class=\"markdown-google-sans\">\n",
        "<center>\n",
        "<img src=\"https://th.bing.com/th/id/R.e720f5513853f14e728fea99a7a66c3f?rik=hsHHC2%2bGkKXh0g&pid=ImgRaw&r=0\" alt=\"img\" width=\"600\" height=\"500\">\n",
        "</center>\n",
        "\n",
        "1- **Benefits of IoT in health care**\n",
        "- Support for Remote Monitoring of Chronic Diseases with Connected Devices\n",
        "- Improving Patient Care and Doctor Response Time\n",
        "\n",
        "2- **Benefits of IoT in agriculture**\n",
        "- reduce water consumption\n",
        "- Smart agriculture vehicles, drones, autonomous robots and actuators.\n",
        "\n",
        "3- **Benefits of IoT in manufacturing**\n",
        "- Ensuring safety\n",
        "- Predictive modeling and planning.\n",
        "- Improved efficiency\n",
        "\n",
        "4- **Benefits of IoT in homes and cities**\n",
        "- improving security\n",
        "- Enhancing energy efficiency\n",
        "</div>"
      ],
      "metadata": {
        "id": "EgLn_SvzvnyF"
      }
    },
    {
      "cell_type": "markdown",
      "metadata": {
        "id": "jYBM_IpX2hcU"
      },
      "source": [
        "<div class=\"markdown-google-sans\">\n",
        "\n",
        "## **IoT Architecture**\n",
        "</div>\n"
      ]
    },
    {
      "cell_type": "markdown",
      "source": [
        "<div class=\"markdown-google-sans\">\n",
        "<center>\n",
        "<img src=\"https://uploads-ssl.webflow.com/5ca1e52b062058be53feebb8/611e0d55cab5d35bcef0a615_Stages%20of%20IoT%20Architecture.jpg\" alt=\"img\" width=\"600\" height=\"500\">\n",
        "</center>\n",
        ".\n",
        "<center>\n",
        "<img src=\"https://www.bing.com/images/blob?bcid=qBtuQiwqjD4GrA\" alt=\"img\" width=\"600\" height=\"500\">\n",
        "</center>\n",
        ".\n",
        ".\n",
        ".\n",
        "<center>\n",
        "<img src=\"https://www.bing.com/images/blob?bcid=qJBQjVL4hD4G9w\" alt=\"img\" width=\"600\" height=\"500\">\n",
        "</center>\n",
        "\n",
        "1- device (**thing**)\n",
        "- hardware\n",
        "  - sensor: measures a physical property and converts it to electrical signal\n",
        "\n",
        "  <img src=\"https://ae01.alicdn.com/kf/HTB1wJ9NeHuWBuNjSszgq6z8jVXaT/16-In-1-Sensor-kit-Suit-For-Arduino-Raspberry-Pi-Module-Kit-16-Kinds-Of-Sensors.jpg\" alt=\"img\" width=\"400\" height=\"400\">\n",
        "\n",
        "  - electrical actuator: device that produces a motion or action on real world from electrical signal\n",
        "  \n",
        "  <img src=\"https://iotbytes.files.wordpress.com/2017/02/solenoids.jpg?w=343\" alt=\"img\" width=\"200\" height=\"200\">\n",
        "   <img src=\"https://www.bing.com/images/blob?bcid=qEIPWhpJiz4GEg\" alt=\"img\" width=\"200\" height=\"200\">\n",
        "</div>"
      ],
      "metadata": {
        "id": "eV_l5yWM2wUc"
      }
    }
  ],
  "metadata": {
    "colab": {
      "provenance": [],
      "collapsed_sections": [
        "GJBs_flRovLc",
        "2eBlGwhpvkpH"
      ],
      "include_colab_link": true
    },
    "kernelspec": {
      "display_name": "Python 3",
      "name": "python3"
    }
  },
  "nbformat": 4,
  "nbformat_minor": 0
}