{
  "cells": [
    {
      "cell_type": "markdown",
      "metadata": {
        "id": "Nma_JWh-W-IF"
      },
      "source": [
        "<div class=\"markdown-google-sans\">\n",
        "<center>\n",
        "  <h1>Welcome to IoT!</h1>\n",
        "  <h3>IoT, or \"Internet of Things\", allows you to monitor and control things locally or remotely and manually or automatically."
      ]
    },
    {
      "cell_type": "markdown",
      "metadata": {
        "id": "5fCEDCU_qrC0"
      },
      "source": [
        "<div class=\"markdown-google-sans\">\n",
        "\n",
        "  ## **content**\n",
        "</div>\n",
        "\n",
        "- What is IoT\n",
        "- Benefits of IoT\n",
        "- IoT Architecture\n",
        "- IoT with flutter\n",
        "<!-- Whether you're a **student**, a **data scientist** or an **AI researcher**, Colab can make your work easier. Watch [Introduction to Colab](https://www.youtube.com/watch?v=inN8seMm7UI) to learn more, or just get started below! -->"
      ]
    },
    {
      "cell_type": "markdown",
      "metadata": {
        "id": "GJBs_flRovLc"
      },
      "source": [
        "<div class=\"markdown-google-sans\">\n",
        "\n",
        "## **What is IoT**\n",
        "</div>\n"
      ]
    },
    {
      "cell_type": "markdown",
      "metadata": {
        "id": "wv0nyPIhtmqW"
      },
      "source": [
        "<div class=\"markdown-google-sans\">\n",
        "<center>\n",
        "<h1>Befor IoT\n",
        "<center>\n",
        "<img src=\"https://mayasblog309.files.wordpress.com/2017/08/modern-day-computers-14-638.jpg\" alt=\"img\" width=\"500\" height=\"400\">\n",
        "</center>\n",
        "<h1>After IoT\n",
        "<center>\n",
        "<img src=\"https://th.bing.com/th/id/R.a6c4090bd57bc00bb8566554a9edd74a?rik=GEK%2fOGmM%2fw6X5A&pid=ImgRaw&r=0\" alt=\"img\" width=\"500\" height=\"400\">\n",
        "</center>\n",
        "IoT not a technology.\n",
        "<center><h2><b>IoT = smart solution to a problem.</center>\n",
        "\n",
        "\n",
        "\n",
        "<center><h2>History.</center>\n",
        "\n",
        "<h6>Kevin Ashton, coined the phrase “Internet of Things” in 1999. He was the first to describe the IoT, while making a presentation for Procter & Gamble, but the definition of the IoT has evolved over time. Mr. Ashton stated:\n",
        "\n",
        "“Today computers, and, therefore, the Internet, are almost wholly **dependent on human** beings for information. Nearly all of the roughly 50 petabytes of data available on the Internet were first captured and created by human beings by typing, pressing a record button, taking a digital picture or scanning a barcode. The problem is, people have limited time, attention, and accuracy. All of which means they are not very good at capturing data about things in the real world. If we had computers that knew everything there was to know about things, **using data they gathered without any help from us**, we would be able to **track** and count everything and greatly **reduce waste, loss, and cost**. We would know when things needed **replacing, repairing, or recalling and whether they were fresh, or past their best**.”</h6>\n",
        "</div>"
      ]
    },
    {
      "cell_type": "markdown",
      "metadata": {
        "id": "2eBlGwhpvkpH"
      },
      "source": [
        "<div class=\"markdown-google-sans\">\n",
        "\n",
        "## **Benefits of IoT**\n",
        "</div>\n"
      ]
    },
    {
      "cell_type": "markdown",
      "metadata": {
        "id": "EgLn_SvzvnyF"
      },
      "source": [
        "<div class=\"markdown-google-sans\">\n",
        "<center>\n",
        "<img src=\"https://th.bing.com/th/id/R.e720f5513853f14e728fea99a7a66c3f?rik=hsHHC2%2bGkKXh0g&pid=ImgRaw&r=0\" alt=\"img\" width=\"600\" height=\"500\">\n",
        "</center>\n",
        "\n",
        "1- **Benefits of IoT in health care**\n",
        "- Support for Remote Monitoring of Chronic Diseases with Connected Devices\n",
        "- Improving Patient Care and Doctor Response Time\n",
        "\n",
        "2- **Benefits of IoT in agriculture**\n",
        "- reduce water consumption\n",
        "- Smart agriculture vehicles, drones, autonomous robots and actuators.\n",
        "\n",
        "3- **Benefits of IoT in manufacturing**\n",
        "- Ensuring safety\n",
        "- Predictive modeling and planning.\n",
        "- Improved efficiency\n",
        "\n",
        "4- **Benefits of IoT in homes and cities**\n",
        "- improving security\n",
        "- Enhancing energy efficiency\n",
        "</div>"
      ]
    },
    {
      "cell_type": "markdown",
      "metadata": {},
      "source": [
        "<div class=\"markdown-google-sans\">\n",
        "\n",
        "## **IoT Architecture**\n",
        "</div>\n"
      ]
    },
    {
      "cell_type": "markdown",
      "metadata": {
        "id": "eV_l5yWM2wUc"
      },
      "source": [
        "<div class=\"markdown-google-sans\">\n",
        "<center>\n",
        "<img src=\"https://uploads-ssl.webflow.com/5ca1e52b062058be53feebb8/611e0d55cab5d35bcef0a615_Stages%20of%20IoT%20Architecture.jpg\" alt=\"img\" width=\"600\" height=\"500\">\n",
        "</center>\n",
        ".\n",
        "<center>\n",
        "<img src=\"images\\download1.PNG\" alt=\"img\" width=\"600\" height=\"500\">\n",
        "</center>\n",
        ".\n",
        ".\n",
        ".\n",
        "<center>\n",
        "<img src=\"images\\iot.png\" alt=\"img\" width=\"600\" height=\"500\">\n",
        "</center>\n",
        "\n",
        "1- device (**thing**)\n",
        "- hardware\n",
        "  - sensor: measures a physical property and converts it to electrical signal\n",
        "\n",
        "<img src=\"https://ae01.alicdn.com/kf/HTB1wJ9NeHuWBuNjSszgq6z8jVXaT/16-In-1-Sensor-kit-Suit-For-Arduino-Raspberry-Pi-Module-Kit-16-Kinds-Of-Sensors.jpg\" alt=\"img\" width=\"400\" height=\"400\">\n",
        "  \n",
        "  - electrical actuator: device that produces a motion or action on real world from electrical signal\n",
        "  \n",
        "<img src=\"https://iotbytes.files.wordpress.com/2017/02/solenoids.jpg?w=343\" alt=\"img\" width=\"200\" height=\"200\">\n",
        "  <img src=\"images\\motor.PNG\" alt=\"img\" width=\"200\" height=\"200\">\n",
        "</div>"
      ]
    },
    {
      "cell_type": "markdown",
      "metadata": {},
      "source": [
        "<div class=\"markdown-google-sans\">\n",
        "\n",
        "## **IoT protocol**\n",
        "</div>\n"
      ]
    },
    {
      "cell_type": "markdown",
      "metadata": {},
      "source": [
        "### **protocol**: is a set of rules defined for each step and process during communication between two or more computers defined for each step and process during communication between two or more computers\n",
        "\n",
        "\n",
        "### **Http protocol**\n",
        "<center> \n",
        "<img src=\"https://www.w3schools.in/wp-content/uploads/2019/08/http-protocol.jpg\" alt=\"img\" width=\"400\" height=\"200\">\n",
        "<br>\n",
        "<img src=\"images/http1.png\" alt=\"img\" width=\"400\" height=\"400\">\n",
        "</center>\n",
        "\n",
        "### why not http\n",
        " - Overhead: HTTP carries a significant amount of overhead in terms of headers and other metadata.\n",
        "\n",
        " - High latency: HTTP is a request-response protocol\n",
        "\n",
        "        CoAP (Constrained Application Protocol)\n",
        "\n",
        "\n",
        "### **Mqtt**\n",
        "        (MQ IBM product / Message Queuing) Telemetry Transport\n",
        "\n",
        "    MQTT is a Client Server publish/subscribe messaging transport protocol. It is lightweight, open, simple, and designed so as to be easy to implement. \n",
        "<center><img src=\"images/mqtt1.jpeg\" alt=\"img\" width=\"600\" height=\"300\"></center>\n",
        "\n",
        "### Mqtt properties (packet)\n",
        "    - Topic \"Home/Kitchen/Lump1\"\n",
        "\n",
        "    - Quality of service level\n",
        "        • At most once (0)\n",
        "        • At least once (1)\n",
        "        • Exactly once (2).\n",
        "\n",
        "    - Retained message\n",
        "    \n",
        "    - Last will and testament\n",
        "\n",
        "    - keep alive --> maximum is 18h  12min 15 sec\n",
        "\n",
        "### Server (Broker)\n",
        "<center><img src=\"images/hivemq.png\" alt=\"img\" width=\"600\" height=\"300\"></center>"
      ]
    },
    {
      "cell_type": "markdown",
      "metadata": {
        "id": "jYBM_IpX2hcU"
      },
      "source": [
        "<div class=\"markdown-google-sans\">\n",
        "\n",
        "## **~~IoT with Flutter~~ IoT using flutter**\n",
        "</div>"
      ]
    },
    {
      "cell_type": "markdown",
      "metadata": {},
      "source": [
        "#### **problem Description**\n",
        "        monitor and control my home\n",
        "#### **solution** \n",
        "        with IoT we can build smart system\n",
        "#### **system parts** \n",
        "        IoT protocol \n",
        "            - Mqtt\n",
        "        Broker\n",
        "             - Hivemq\n",
        "        device\n",
        "             - hardware\n",
        "                 . nodemcu, sensores and actuators\n",
        "<center><img src=\"images/node.PNG\" alt=\"img\" width=\"600\" height=\"300\"></center>\n",
        "\n",
        "        - dashboard (mobile app)\n",
        "<center><img src=\"images/mobile.jpg\" alt=\"img\" width=\"300\" height=\"400\"></center>\n",
        "\n",
        "### **system integration**\n",
        "<center><img src=\"images/design.png\" alt=\"img\" width=\"500\" height=\"400\"></center>"
      ]
    }
  ],
  "metadata": {
    "colab": {
      "collapsed_sections": [
        "GJBs_flRovLc",
        "2eBlGwhpvkpH"
      ],
      "provenance": []
    },
    "kernelspec": {
      "display_name": "Python 3",
      "name": "python3"
    }
  },
  "nbformat": 4,
  "nbformat_minor": 0
}
